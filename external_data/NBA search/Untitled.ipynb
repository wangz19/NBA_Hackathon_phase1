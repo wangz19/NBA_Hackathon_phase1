{
 "cells": [
  {
   "cell_type": "code",
   "execution_count": 32,
   "metadata": {},
   "outputs": [
    {
     "data": {
      "text/plain": [
       "['Sesson1_7.csv',\n",
       " 'Sesson1_6.csv',\n",
       " 'Sesson1_1.csv',\n",
       " 'Sesson1_2.csv',\n",
       " 'Sesson1_4.csv',\n",
       " 'Sesson1_5.csv',\n",
       " 'Sesson1_8.csv',\n",
       " 'Sesson1_3.csv']"
      ]
     },
     "execution_count": 32,
     "metadata": {},
     "output_type": "execute_result"
    }
   ],
   "source": [
    "import pandas as pd\n",
    "import numpy as np\n",
    "import glob\n",
    "file_list = glob.glob(r'Sesson1*.csv')\n",
    "file_list"
   ]
  },
  {
   "cell_type": "code",
   "execution_count": 42,
   "metadata": {},
   "outputs": [],
   "source": [
    "df =[]\n",
    "for i in file_list:\n",
    "    df.append(pd.read_csv(i, skiprows=2,skipinitialspace=True,parse_dates=['Day']))"
   ]
  },
  {
   "cell_type": "code",
   "execution_count": 45,
   "metadata": {},
   "outputs": [
    {
     "data": {
      "text/html": [
       "<div>\n",
       "<style scoped>\n",
       "    .dataframe tbody tr th:only-of-type {\n",
       "        vertical-align: middle;\n",
       "    }\n",
       "\n",
       "    .dataframe tbody tr th {\n",
       "        vertical-align: top;\n",
       "    }\n",
       "\n",
       "    .dataframe thead th {\n",
       "        text-align: right;\n",
       "    }\n",
       "</style>\n",
       "<table border=\"1\" class=\"dataframe\">\n",
       "  <thead>\n",
       "    <tr style=\"text-align: right;\">\n",
       "      <th></th>\n",
       "      <th>Day</th>\n",
       "      <th>Atlanta Hawks: (Worldwide)</th>\n",
       "      <th>Sacramento Kings: (Worldwide)</th>\n",
       "      <th>San Antonio Spurs: (Worldwide)</th>\n",
       "      <th>Toronto Raptors: (Worldwide)</th>\n",
       "      <th>Utah Jazz: (Worldwide)</th>\n",
       "    </tr>\n",
       "  </thead>\n",
       "  <tbody>\n",
       "    <tr>\n",
       "      <th>0</th>\n",
       "      <td>2016-10-20</td>\n",
       "      <td>8</td>\n",
       "      <td>7</td>\n",
       "      <td>9</td>\n",
       "      <td>10</td>\n",
       "      <td>11</td>\n",
       "    </tr>\n",
       "    <tr>\n",
       "      <th>1</th>\n",
       "      <td>2016-10-21</td>\n",
       "      <td>9</td>\n",
       "      <td>7</td>\n",
       "      <td>8</td>\n",
       "      <td>9</td>\n",
       "      <td>7</td>\n",
       "    </tr>\n",
       "    <tr>\n",
       "      <th>2</th>\n",
       "      <td>2016-10-22</td>\n",
       "      <td>6</td>\n",
       "      <td>8</td>\n",
       "      <td>15</td>\n",
       "      <td>9</td>\n",
       "      <td>7</td>\n",
       "    </tr>\n",
       "    <tr>\n",
       "      <th>3</th>\n",
       "      <td>2016-10-23</td>\n",
       "      <td>9</td>\n",
       "      <td>7</td>\n",
       "      <td>11</td>\n",
       "      <td>10</td>\n",
       "      <td>8</td>\n",
       "    </tr>\n",
       "    <tr>\n",
       "      <th>4</th>\n",
       "      <td>2016-10-24</td>\n",
       "      <td>8</td>\n",
       "      <td>7</td>\n",
       "      <td>10</td>\n",
       "      <td>10</td>\n",
       "      <td>9</td>\n",
       "    </tr>\n",
       "  </tbody>\n",
       "</table>\n",
       "</div>"
      ],
      "text/plain": [
       "         Day  Atlanta Hawks: (Worldwide)  Sacramento Kings: (Worldwide)  \\\n",
       "0 2016-10-20                           8                              7   \n",
       "1 2016-10-21                           9                              7   \n",
       "2 2016-10-22                           6                              8   \n",
       "3 2016-10-23                           9                              7   \n",
       "4 2016-10-24                           8                              7   \n",
       "\n",
       "   San Antonio Spurs: (Worldwide)  Toronto Raptors: (Worldwide)  \\\n",
       "0                               9                            10   \n",
       "1                               8                             9   \n",
       "2                              15                             9   \n",
       "3                              11                            10   \n",
       "4                              10                            10   \n",
       "\n",
       "   Utah Jazz: (Worldwide)  \n",
       "0                      11  \n",
       "1                       7  \n",
       "2                       7  \n",
       "3                       8  \n",
       "4                       9  "
      ]
     },
     "execution_count": 45,
     "metadata": {},
     "output_type": "execute_result"
    }
   ],
   "source": [
    "df[0].head()"
   ]
  },
  {
   "cell_type": "code",
   "execution_count": 46,
   "metadata": {},
   "outputs": [
    {
     "data": {
      "text/html": [
       "<div>\n",
       "<style scoped>\n",
       "    .dataframe tbody tr th:only-of-type {\n",
       "        vertical-align: middle;\n",
       "    }\n",
       "\n",
       "    .dataframe tbody tr th {\n",
       "        vertical-align: top;\n",
       "    }\n",
       "\n",
       "    .dataframe thead th {\n",
       "        text-align: right;\n",
       "    }\n",
       "</style>\n",
       "<table border=\"1\" class=\"dataframe\">\n",
       "  <thead>\n",
       "    <tr style=\"text-align: right;\">\n",
       "      <th></th>\n",
       "      <th>Day</th>\n",
       "      <th>Atlanta Hawks: (Worldwide)</th>\n",
       "      <th>Orlando Magic: (Worldwide)</th>\n",
       "      <th>Philadelphia Sixers: (Worldwide)</th>\n",
       "      <th>Phoenix Suns: (Worldwide)</th>\n",
       "      <th>Portland Trail Blazers: (Worldwide)</th>\n",
       "    </tr>\n",
       "  </thead>\n",
       "  <tbody>\n",
       "    <tr>\n",
       "      <th>0</th>\n",
       "      <td>2016-10-20</td>\n",
       "      <td>18</td>\n",
       "      <td>30</td>\n",
       "      <td>2</td>\n",
       "      <td>16</td>\n",
       "      <td>10</td>\n",
       "    </tr>\n",
       "    <tr>\n",
       "      <th>1</th>\n",
       "      <td>2016-10-21</td>\n",
       "      <td>20</td>\n",
       "      <td>29</td>\n",
       "      <td>2</td>\n",
       "      <td>16</td>\n",
       "      <td>4</td>\n",
       "    </tr>\n",
       "    <tr>\n",
       "      <th>2</th>\n",
       "      <td>2016-10-22</td>\n",
       "      <td>14</td>\n",
       "      <td>22</td>\n",
       "      <td>3</td>\n",
       "      <td>20</td>\n",
       "      <td>22</td>\n",
       "    </tr>\n",
       "    <tr>\n",
       "      <th>3</th>\n",
       "      <td>2016-10-23</td>\n",
       "      <td>20</td>\n",
       "      <td>25</td>\n",
       "      <td>1</td>\n",
       "      <td>15</td>\n",
       "      <td>7</td>\n",
       "    </tr>\n",
       "    <tr>\n",
       "      <th>4</th>\n",
       "      <td>2016-10-24</td>\n",
       "      <td>17</td>\n",
       "      <td>22</td>\n",
       "      <td>2</td>\n",
       "      <td>15</td>\n",
       "      <td>13</td>\n",
       "    </tr>\n",
       "  </tbody>\n",
       "</table>\n",
       "</div>"
      ],
      "text/plain": [
       "         Day  Atlanta Hawks: (Worldwide)  Orlando Magic: (Worldwide)  \\\n",
       "0 2016-10-20                          18                          30   \n",
       "1 2016-10-21                          20                          29   \n",
       "2 2016-10-22                          14                          22   \n",
       "3 2016-10-23                          20                          25   \n",
       "4 2016-10-24                          17                          22   \n",
       "\n",
       "  Philadelphia Sixers: (Worldwide)  Phoenix Suns: (Worldwide)  \\\n",
       "0                                2                         16   \n",
       "1                                2                         16   \n",
       "2                                3                         20   \n",
       "3                                1                         15   \n",
       "4                                2                         15   \n",
       "\n",
       "   Portland Trail Blazers: (Worldwide)  \n",
       "0                                   10  \n",
       "1                                    4  \n",
       "2                                   22  \n",
       "3                                    7  \n",
       "4                                   13  "
      ]
     },
     "execution_count": 46,
     "metadata": {},
     "output_type": "execute_result"
    }
   ],
   "source": [
    "df[1].head()"
   ]
  },
  {
   "cell_type": "code",
   "execution_count": 14,
   "metadata": {},
   "outputs": [
    {
     "data": {
      "text/plain": [
       "['Day',\n",
       " 'Atlanta Hawks: (Worldwide)',\n",
       " 'Sacramento Kings: (Worldwide)',\n",
       " 'San Antonio Spurs: (Worldwide)',\n",
       " 'Toronto Raptors: (Worldwide)',\n",
       " 'Utah Jazz: (Worldwide)']"
      ]
     },
     "execution_count": 14,
     "metadata": {},
     "output_type": "execute_result"
    }
   ],
   "source": [
    "df[0].columns.tolist()"
   ]
  },
  {
   "cell_type": "code",
   "execution_count": null,
   "metadata": {},
   "outputs": [],
   "source": []
  }
 ],
 "metadata": {
  "kernelspec": {
   "display_name": "Python 3",
   "language": "python",
   "name": "python3"
  },
  "language_info": {
   "codemirror_mode": {
    "name": "ipython",
    "version": 3
   },
   "file_extension": ".py",
   "mimetype": "text/x-python",
   "name": "python",
   "nbconvert_exporter": "python",
   "pygments_lexer": "ipython3",
   "version": "3.6.5"
  }
 },
 "nbformat": 4,
 "nbformat_minor": 2
}
